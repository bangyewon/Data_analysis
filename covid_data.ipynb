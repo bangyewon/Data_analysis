{
 "cells": [
  {
   "cell_type": "code",
   "execution_count": 2,
   "id": "397dd34c",
   "metadata": {},
   "outputs": [],
   "source": [
    "import numpy as np\n",
    "import matplotlib.pyplot as plt"
   ]
  },
  {
   "cell_type": "code",
   "execution_count": 3,
   "id": "9e053510",
   "metadata": {},
   "outputs": [
    {
     "name": "stdout",
     "output_type": "stream",
     "text": [
      "         Date  Death  Infection\n",
      "0  2020-01-01      0          0\n",
      "1  2020-02-01      0         10\n",
      "2  2020-03-01      0          9\n",
      "3  2020-04-01      0          0\n",
      "4  2020-05-01      0          0\n"
     ]
    }
   ],
   "source": [
    "import pandas as pd\n",
    "file_path='./kyoungnam_corona.csv'\n",
    "covid=pd.read_csv(file_path)\n",
    "print(covid.head())"
   ]
  },
  {
   "cell_type": "code",
   "execution_count": 4,
   "id": "19156701",
   "metadata": {},
   "outputs": [
    {
     "name": "stdout",
     "output_type": "stream",
     "text": [
      "(33, 3)\n"
     ]
    }
   ],
   "source": [
    "print(covid.shape)"
   ]
  },
  {
   "cell_type": "code",
   "execution_count": 5,
   "id": "35c81991",
   "metadata": {},
   "outputs": [
    {
     "name": "stdout",
     "output_type": "stream",
     "text": [
      "Date         object\n",
      "Death         int64\n",
      "Infection     int64\n",
      "dtype: object\n"
     ]
    }
   ],
   "source": [
    "print(covid.dtypes)"
   ]
  },
  {
   "cell_type": "raw",
   "id": "f7570536",
   "metadata": {},
   "source": [
    "covid자료의 데이터 타입은 사망자수와 감염자수 둘다 int64을 띄고있다.날짜는 object의 타입을 띄고있다."
   ]
  },
  {
   "cell_type": "code",
   "execution_count": 6,
   "id": "a56801e8",
   "metadata": {},
   "outputs": [
    {
     "name": "stdout",
     "output_type": "stream",
     "text": [
      "<class 'pandas.core.frame.DataFrame'>\n",
      "RangeIndex: 33 entries, 0 to 32\n",
      "Data columns (total 3 columns):\n",
      " #   Column     Non-Null Count  Dtype \n",
      "---  ------     --------------  ----- \n",
      " 0   Date       33 non-null     object\n",
      " 1   Death      33 non-null     int64 \n",
      " 2   Infection  33 non-null     int64 \n",
      "dtypes: int64(2), object(1)\n",
      "memory usage: 920.0+ bytes\n"
     ]
    }
   ],
   "source": [
    "covid.info()"
   ]
  },
  {
   "cell_type": "raw",
   "id": "67cf418e",
   "metadata": {},
   "source": [
    "데이터프레임을 살펴봤을때, int64의 데이터타입은 감염자수와 사망자수 2개, object타입은 날짜로 총 3개의 데이터를 갖고있다는 것을 알 수 있다."
   ]
  },
  {
   "cell_type": "code",
   "execution_count": 43,
   "id": "64079a68",
   "metadata": {},
   "outputs": [
    {
     "data": {
      "text/html": [
       "<div>\n",
       "<style scoped>\n",
       "    .dataframe tbody tr th:only-of-type {\n",
       "        vertical-align: middle;\n",
       "    }\n",
       "\n",
       "    .dataframe tbody tr th {\n",
       "        vertical-align: top;\n",
       "    }\n",
       "\n",
       "    .dataframe thead th {\n",
       "        text-align: right;\n",
       "    }\n",
       "</style>\n",
       "<table border=\"1\" class=\"dataframe\">\n",
       "  <thead>\n",
       "    <tr style=\"text-align: right;\">\n",
       "      <th></th>\n",
       "      <th>Death</th>\n",
       "      <th>Infection</th>\n",
       "    </tr>\n",
       "  </thead>\n",
       "  <tbody>\n",
       "    <tr>\n",
       "      <th>count</th>\n",
       "      <td>33.000000</td>\n",
       "      <td>33.000000</td>\n",
       "    </tr>\n",
       "    <tr>\n",
       "      <th>mean</th>\n",
       "      <td>1.818182</td>\n",
       "      <td>785.333333</td>\n",
       "    </tr>\n",
       "    <tr>\n",
       "      <th>std</th>\n",
       "      <td>6.120940</td>\n",
       "      <td>2068.822667</td>\n",
       "    </tr>\n",
       "    <tr>\n",
       "      <th>min</th>\n",
       "      <td>0.000000</td>\n",
       "      <td>0.000000</td>\n",
       "    </tr>\n",
       "    <tr>\n",
       "      <th>25%</th>\n",
       "      <td>0.000000</td>\n",
       "      <td>0.000000</td>\n",
       "    </tr>\n",
       "    <tr>\n",
       "      <th>50%</th>\n",
       "      <td>0.000000</td>\n",
       "      <td>9.000000</td>\n",
       "    </tr>\n",
       "    <tr>\n",
       "      <th>75%</th>\n",
       "      <td>1.000000</td>\n",
       "      <td>105.000000</td>\n",
       "    </tr>\n",
       "    <tr>\n",
       "      <th>max</th>\n",
       "      <td>33.000000</td>\n",
       "      <td>10155.000000</td>\n",
       "    </tr>\n",
       "  </tbody>\n",
       "</table>\n",
       "</div>"
      ],
      "text/plain": [
       "           Death     Infection\n",
       "count  33.000000     33.000000\n",
       "mean    1.818182    785.333333\n",
       "std     6.120940   2068.822667\n",
       "min     0.000000      0.000000\n",
       "25%     0.000000      0.000000\n",
       "50%     0.000000      9.000000\n",
       "75%     1.000000    105.000000\n",
       "max    33.000000  10155.000000"
      ]
     },
     "execution_count": 43,
     "metadata": {},
     "output_type": "execute_result"
    }
   ],
   "source": [
    "covid.describe()"
   ]
  },
  {
   "cell_type": "raw",
   "id": "0da63879",
   "metadata": {},
   "source": [
    "자료의 통계를 살펴보면, 사망자 수의 평균은 1.818을 기록하고 있으며 75퍼센트를 넘어서부터 급격히 증가하는 것을 볼 수 있다.편차는 6으로 평균과 많이 차이가 난다. 또한 최대와 최소값의 크기차이가 33으로 크게 발생하며, 75%이상과 최대값의 차이도 32로 크게 보여주고있다. 감염자의 평균은 785.333이며,편차는 평균과 많은 차이가 난다. 감염자 수는 50%부터 증가하기 시작했으며 75%부터 급격히 증가하는 추세를 보인다. 최대값과 평균,최소값과 많은 차이를 보여주고 있다."
   ]
  },
  {
   "cell_type": "markdown",
   "id": "9a01eb17",
   "metadata": {},
   "source": [
    "# 가설1) 코로나 감염자는 2020년도 중 2-3월달에 최대수치를 기록할 것이다."
   ]
  },
  {
   "cell_type": "code",
   "execution_count": 73,
   "id": "00846b5e",
   "metadata": {},
   "outputs": [
    {
     "data": {
      "image/png": "[encoded data removed]",
      "text/plain": [
       "<Figure size 432x288 with 1 Axes>"
      ]
     },
     "metadata": {},
     "output_type": "display_data"
    }
   ],
   "source": [
    "covid=pd.read_csv(file_path) \n",
    "plt.scatter(covid['Date'].head(5),covid['Infection'].head(5),alpha=1.0, label='Infection')\n",
    "plt.xlabel('Date')\n",
    "plt.ylabel('Infection')\n",
    "plt.legend(loc='upper right')\n",
    "plt.title(\"Max of Infection\")\n",
    "plt.show()"
   ]
  },
  {
   "cell_type": "raw",
   "id": "29d9a360",
   "metadata": {},
   "source": [
    "산점도 그래프로 감염자의 최대값을 뽑아냈다. 많은 날짜 데이터들이 존재했기에 상위 5개의 데이터만 뽑아서 분석했다, 상위 5개의 데이터들 중 코로나가 처음 유행할 시기인 2-3월에 코로나로 인한 감염자 수가 높을 것이라 예상했다. 산점도의 결과 또한 20년 2월1일과 3월 1일의 점이 가장 상위에 찍혀있음을 알 수 있다. 그 후 4,5월을 거치면서 코로나의 감염자 최댓값도 낮아진 것을 볼 수 있다."
   ]
  },
  {
   "cell_type": "code",
   "execution_count": 9,
   "id": "7828127e",
   "metadata": {},
   "outputs": [],
   "source": [
    "import seaborn as sns\n",
    "import matplotlib.pyplot as plt"
   ]
  },
  {
   "cell_type": "code",
   "execution_count": 18,
   "id": "067b578b",
   "metadata": {},
   "outputs": [
    {
     "name": "stdout",
     "output_type": "stream",
     "text": [
      "              Death  Infection\n",
      "Death      1.000000   0.954542\n",
      "Infection  0.954542   1.000000\n"
     ]
    }
   ],
   "source": [
    "corr=covid[['Death','Infection']].corr(method='pearson')\n",
    "print(corr)"
   ]
  },
  {
   "cell_type": "markdown",
   "id": "cb2d90f6",
   "metadata": {},
   "source": [
    "# 가설2)  코로나 감염자가 늘어날수록 사망자의 수는 늘어날 것이다. "
   ]
  },
  {
   "cell_type": "code",
   "execution_count": 19,
   "id": "7427e280",
   "metadata": {},
   "outputs": [
    {
     "data": {
      "image/png": "[encoded data removed]",
      "text/plain": [
       "<Figure size 432x288 with 2 Axes>"
      ]
     },
     "metadata": {},
     "output_type": "display_data"
    }
   ],
   "source": [
    "#히트맵 그리기\n",
    "cols_view=['Death','Infection']\n",
    "sns.set(font_scale=1.5)\n",
    "hm=sns.heatmap(corr.values,\n",
    "               cbar=True,\n",
    "                annot=True, square=True, fmt='.2f',\n",
    "                 annot_kws={'size':15},\n",
    "                 yticklabels=cols_view,\n",
    "                 xticklabels=cols_view)\n",
    "\n",
    "\n",
    "plt.show()"
   ]
  },
  {
   "cell_type": "raw",
   "id": "44e32941",
   "metadata": {},
   "source": [
    "히트맵을 보면 사망자 수와 감염자 수의 겹치는 부분은 0.95로 어두운 부분인 것을 볼 수 있다. 0.95의 수치는 1과 근접하므로, 이는 사망자 수와 감염자 수가 양의 상관관계라는 것을 볼 수 있다. 양의 상관관계가 되면 코로나 감염자 수가 증가할 때 코로나로 인한 사망자 수도 증가한다는 것을 의미한다. "
   ]
  },
  {
   "cell_type": "markdown",
   "id": "be0f9a85",
   "metadata": {},
   "source": [
    "# 가설3) 날짜가 증가할 수록 코로나 감염자와 코로나로 인한 사망자 수는 증가할 것이다."
   ]
  },
  {
   "cell_type": "code",
   "execution_count": 42,
   "id": "d28d6667",
   "metadata": {},
   "outputs": [
    {
     "data": {
      "image/png": "[encoded data removed]",
      "text/plain": [
       "<Figure size 432x288 with 1 Axes>"
      ]
     },
     "metadata": {},
     "output_type": "display_data"
    },
    {
     "data": {
      "image/png": "[encoded data removed]",
      "text/plain": [
       "<Figure size 432x288 with 1 Axes>"
      ]
     },
     "metadata": {},
     "output_type": "display_data"
    }
   ],
   "source": [
    "inf_count=covid['Infection'].tolist()\n",
    "\n",
    "x_pos=np.arange(len(covid['Date']))\n",
    "\n",
    "\n",
    "plt.bar(x_pos, inf_count, align='center')\n",
    "plt.ylabel('Infection')\n",
    "plt.title('Date of Infection')\n",
    "plt.show()\n",
    "\n",
    "inf_count=covid['Death'].tolist()\n",
    "\n",
    "x_pos=np.arange(len(covid['Date']))\n",
    "\n",
    "\n",
    "plt.bar(x_pos, inf_count, align='center')\n",
    "plt.ylabel('Death')\n",
    "plt.title('Date of Death')\n",
    "plt.show()"
   ]
  },
  {
   "cell_type": "raw",
   "id": "6bc95688",
   "metadata": {},
   "source": [
    "하단 x축의 0~20일 전까지의 감염자와 사망자수는 0에 수렴한다. 즉 20일 전까지는 코로나 감염자,사망자가 없었다는 것을 알 수 있다. 하지만 감염자 그래프에선 20일을 기준으로 감염자가 나온 것을 알 수 있으며 최대 10000에 달하는 수치를 기록했다는 것을 알 수 있다. 그리고 점차 감염자의 수가 줄어드는 것을 볼 수 있다. 날짜별 사망자 수 그래프에서는 감염자 수 그래프와 달리 20일 직후에 10이하의 사망자가 발생했다는 것을 알 수 있다. 이는 20일 직후에도 코로나 감염자가 발생하긴 했으나 그래프에 표시되지 않을 정도로 적게 발생했고,감염자 수는 적고 사망률이 높았다는 것을 알 수 있다.코로나로 인한 사망자 수는 최대 30을 넘었으며 날짜가 지날 수록 점차 낮아지는 것을 볼 수 있다."
   ]
  }
 ],
 "metadata": {
  "kernelspec": {
   "display_name": "Python 3 (ipykernel)",
   "language": "python",
   "name": "python3"
  },
  "language_info": {
   "codemirror_mode": {
    "name": "ipython",
    "version": 3
   },
   "file_extension": ".py",
   "mimetype": "text/x-python",
   "name": "python",
   "nbconvert_exporter": "python",
   "pygments_lexer": "ipython3",
   "version": "3.9.12"
  }
 },
 "nbformat": 4,
 "nbformat_minor": 5
}
