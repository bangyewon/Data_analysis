{
 "cells": [
  {
   "cell_type": "code",
   "execution_count": 25,
   "id": "cd4a8240",
   "metadata": {},
   "outputs": [
    {
     "name": "stdout",
     "output_type": "stream",
     "text": [
      "(4622, 5)\n"
     ]
    }
   ],
   "source": [
    "import pandas as pd \n",
    "import numpy as np\n",
    "%matplotlib inline\n",
    "import matplotlib.pyplot as plt\n",
    "file_path='./chipotle.tsv'\n",
    "chipo=pd.read_csv(file_path, sep='\\t') \n",
    "print(chipo.shape)"
   ]
  },
  {
   "cell_type": "raw",
   "id": "32f5b678",
   "metadata": {},
   "source": [
    "numpy : 수치계산 위해 만들어짐 import로 사용\n",
    "pandas : 소스 데이터 관리에 유용으로 import로 사용함\n",
    "%matplotlib inline : 현재 실행중인 노트북에서 그래프 출력 가능하도록 선언\n",
    "matplotlib :데이터 시각화해주기 위해서 import로 사용\n",
    "file_path : 파일의 데이터 경로를 찾음 \n",
    "chipo=pd.read_csv() : chipo라 이름 설정하고, ()안의 파일을 읽는 용도로 씀.\n",
    "Chipo.shape : shape으로 현재 파일의 데이터 보여줌"
   ]
  },
  {
   "cell_type": "code",
   "execution_count": 4,
   "id": "fa53a303",
   "metadata": {},
   "outputs": [
    {
     "data": {
      "text/html": [
       "<div>\n",
       "<style scoped>\n",
       "    .dataframe tbody tr th:only-of-type {\n",
       "        vertical-align: middle;\n",
       "    }\n",
       "\n",
       "    .dataframe tbody tr th {\n",
       "        vertical-align: top;\n",
       "    }\n",
       "\n",
       "    .dataframe thead th {\n",
       "        text-align: right;\n",
       "    }\n",
       "</style>\n",
       "<table border=\"1\" class=\"dataframe\">\n",
       "  <thead>\n",
       "    <tr style=\"text-align: right;\">\n",
       "      <th></th>\n",
       "      <th>names</th>\n",
       "      <th>births</th>\n",
       "      <th>custom</th>\n",
       "    </tr>\n",
       "  </thead>\n",
       "  <tbody>\n",
       "    <tr>\n",
       "      <th>0</th>\n",
       "      <td>Bob</td>\n",
       "      <td>959</td>\n",
       "      <td>1.0</td>\n",
       "    </tr>\n",
       "    <tr>\n",
       "      <th>1</th>\n",
       "      <td>Jessica</td>\n",
       "      <td>345</td>\n",
       "      <td>5.0</td>\n",
       "    </tr>\n",
       "    <tr>\n",
       "      <th>2</th>\n",
       "      <td>Mary</td>\n",
       "      <td>32</td>\n",
       "      <td>10.0</td>\n",
       "    </tr>\n",
       "    <tr>\n",
       "      <th>3</th>\n",
       "      <td>John</td>\n",
       "      <td>45</td>\n",
       "      <td>20.0</td>\n",
       "    </tr>\n",
       "    <tr>\n",
       "      <th>4</th>\n",
       "      <td>Mel</td>\n",
       "      <td>12</td>\n",
       "      <td>34.0</td>\n",
       "    </tr>\n",
       "  </tbody>\n",
       "</table>\n",
       "</div>"
      ],
      "text/plain": [
       "     names  births  custom\n",
       "0      Bob     959     1.0\n",
       "1  Jessica     345     5.0\n",
       "2     Mary      32    10.0\n",
       "3     John      45    20.0\n",
       "4      Mel      12    34.0"
      ]
     },
     "execution_count": 4,
     "metadata": {},
     "output_type": "execute_result"
    }
   ],
   "source": [
    "names=['Bob','Jessica','Mary','John','Mel']\n",
    "births=[959,345,32,45,12,10]\n",
    "custom=[1.0,5,10,20,34]\n",
    "\n",
    "DataSet=list(zip(names,births,custom))\n",
    "df=pd.DataFrame(data=DataSet,columns=['names','births','custom'])\n",
    "df.head()"
   ]
  },
  {
   "cell_type": "raw",
   "id": "9b879291",
   "metadata": {},
   "source": [
    "names,births,custom의 배열을 설정함\n",
    "dataset=list(zip()) : zip함수로 동일한 갯수로 이뤄진 자료형을 묶어줌 / list함수로 배열을 리스트 형식으로 반환함\n",
    "df=pd.DataFrame(data=DataSet,columns=['names','births','custom']) : 데이터프레임으로 names,births,custom으로 이뤄진 표를 만듬\n",
    "df.head() : 앞에서부터 몇개를 출력하겠다는 의미 - 함수안에 인자없으면 디폴트로 모두 출력"
   ]
  },
  {
   "cell_type": "code",
   "execution_count": 12,
   "id": "e6b13ddc",
   "metadata": {},
   "outputs": [
    {
     "data": {
      "text/plain": [
       "names      object\n",
       "births      int64\n",
       "custom    float64\n",
       "dtype: object"
      ]
     },
     "execution_count": 12,
     "metadata": {},
     "output_type": "execute_result"
    }
   ],
   "source": [
    "df.dtypes"
   ]
  },
  {
   "cell_type": "raw",
   "id": "eeb90ae3",
   "metadata": {},
   "source": [
    "dtypes : 데이터 프레임의 기본정보를 보여줌"
   ]
  },
  {
   "cell_type": "code",
   "execution_count": 7,
   "id": "7c205fc9",
   "metadata": {},
   "outputs": [
    {
     "data": {
      "text/plain": [
       "RangeIndex(start=0, stop=5, step=1)"
      ]
     },
     "execution_count": 7,
     "metadata": {},
     "output_type": "execute_result"
    }
   ],
   "source": [
    "df.index"
   ]
  },
  {
   "cell_type": "raw",
   "id": "00cead3b",
   "metadata": {},
   "source": [
    "데이터 프레임의 인덱스 정보를 보여줌"
   ]
  },
  {
   "cell_type": "code",
   "execution_count": 8,
   "id": "5aacc9bd",
   "metadata": {},
   "outputs": [
    {
     "data": {
      "text/plain": [
       "Index(['names', 'births', 'custom'], dtype='object')"
      ]
     },
     "execution_count": 8,
     "metadata": {},
     "output_type": "execute_result"
    }
   ],
   "source": [
    "df.columns"
   ]
  },
  {
   "cell_type": "raw",
   "id": "c84e27da",
   "metadata": {},
   "source": [
    "데이터 프레임의 열의 형태정보를 보여줌"
   ]
  },
  {
   "cell_type": "code",
   "execution_count": 9,
   "id": "57918f46",
   "metadata": {},
   "outputs": [
    {
     "data": {
      "text/plain": [
       "0        Bob\n",
       "1    Jessica\n",
       "2       Mary\n",
       "3       John\n",
       "4        Mel\n",
       "Name: names, dtype: object"
      ]
     },
     "execution_count": 9,
     "metadata": {},
     "output_type": "execute_result"
    }
   ],
   "source": [
    "df ['names']"
   ]
  },
  {
   "cell_type": "raw",
   "id": "1ede7692",
   "metadata": {},
   "source": [
    "names에 관한 데이터 프레임을 보여줌"
   ]
  },
  {
   "cell_type": "code",
   "execution_count": 13,
   "id": "eb4333be",
   "metadata": {},
   "outputs": [
    {
     "data": {
      "text/html": [
       "<div>\n",
       "<style scoped>\n",
       "    .dataframe tbody tr th:only-of-type {\n",
       "        vertical-align: middle;\n",
       "    }\n",
       "\n",
       "    .dataframe tbody tr th {\n",
       "        vertical-align: top;\n",
       "    }\n",
       "\n",
       "    .dataframe thead th {\n",
       "        text-align: right;\n",
       "    }\n",
       "</style>\n",
       "<table border=\"1\" class=\"dataframe\">\n",
       "  <thead>\n",
       "    <tr style=\"text-align: right;\">\n",
       "      <th></th>\n",
       "      <th>names</th>\n",
       "      <th>births</th>\n",
       "      <th>custom</th>\n",
       "    </tr>\n",
       "  </thead>\n",
       "  <tbody>\n",
       "    <tr>\n",
       "      <th>0</th>\n",
       "      <td>Bob</td>\n",
       "      <td>959</td>\n",
       "      <td>1.0</td>\n",
       "    </tr>\n",
       "    <tr>\n",
       "      <th>1</th>\n",
       "      <td>Jessica</td>\n",
       "      <td>345</td>\n",
       "      <td>5.0</td>\n",
       "    </tr>\n",
       "    <tr>\n",
       "      <th>2</th>\n",
       "      <td>Mary</td>\n",
       "      <td>32</td>\n",
       "      <td>10.0</td>\n",
       "    </tr>\n",
       "    <tr>\n",
       "      <th>3</th>\n",
       "      <td>John</td>\n",
       "      <td>45</td>\n",
       "      <td>20.0</td>\n",
       "    </tr>\n",
       "  </tbody>\n",
       "</table>\n",
       "</div>"
      ],
      "text/plain": [
       "     names  births  custom\n",
       "0      Bob     959     1.0\n",
       "1  Jessica     345     5.0\n",
       "2     Mary      32    10.0\n",
       "3     John      45    20.0"
      ]
     },
     "execution_count": 13,
     "metadata": {},
     "output_type": "execute_result"
    }
   ],
   "source": [
    "df[0:4]"
   ]
  },
  {
   "cell_type": "raw",
   "id": "229e47ee",
   "metadata": {},
   "source": [
    "0~3인덱스까지 보여줌"
   ]
  },
  {
   "cell_type": "code",
   "execution_count": 15,
   "id": "d373941e",
   "metadata": {},
   "outputs": [
    {
     "data": {
      "text/html": [
       "<div>\n",
       "<style scoped>\n",
       "    .dataframe tbody tr th:only-of-type {\n",
       "        vertical-align: middle;\n",
       "    }\n",
       "\n",
       "    .dataframe tbody tr th {\n",
       "        vertical-align: top;\n",
       "    }\n",
       "\n",
       "    .dataframe thead th {\n",
       "        text-align: right;\n",
       "    }\n",
       "</style>\n",
       "<table border=\"1\" class=\"dataframe\">\n",
       "  <thead>\n",
       "    <tr style=\"text-align: right;\">\n",
       "      <th></th>\n",
       "      <th>names</th>\n",
       "      <th>births</th>\n",
       "      <th>custom</th>\n",
       "    </tr>\n",
       "  </thead>\n",
       "  <tbody>\n",
       "    <tr>\n",
       "      <th>0</th>\n",
       "      <td>Bob</td>\n",
       "      <td>959</td>\n",
       "      <td>1.0</td>\n",
       "    </tr>\n",
       "    <tr>\n",
       "      <th>1</th>\n",
       "      <td>Jessica</td>\n",
       "      <td>345</td>\n",
       "      <td>5.0</td>\n",
       "    </tr>\n",
       "  </tbody>\n",
       "</table>\n",
       "</div>"
      ],
      "text/plain": [
       "     names  births  custom\n",
       "0      Bob     959     1.0\n",
       "1  Jessica     345     5.0"
      ]
     },
     "execution_count": 15,
     "metadata": {},
     "output_type": "execute_result"
    }
   ],
   "source": [
    "df[df['births'] >100]"
   ]
  },
  {
   "cell_type": "raw",
   "id": "ac325035",
   "metadata": {},
   "source": [
    "birth에서 100보다 큰 데이터 프레임을 보여줌"
   ]
  },
  {
   "cell_type": "code",
   "execution_count": 18,
   "id": "4266880d",
   "metadata": {},
   "outputs": [
    {
     "data": {
      "text/plain": [
       "array([[ 0,  1,  2,  3,  4],\n",
       "       [ 5,  6,  7,  8,  9],\n",
       "       [10, 11, 12, 13, 14]])"
      ]
     },
     "execution_count": 18,
     "metadata": {},
     "output_type": "execute_result"
    }
   ],
   "source": [
    "arr1=np.arange(15).reshape(3,5)\n",
    "arr1"
   ]
  },
  {
   "cell_type": "raw",
   "id": "1d6f6438",
   "metadata": {},
   "source": [
    "arange()로 배열생성\n",
    "reshape()로 1차원 배열을 다른공간으로 변환"
   ]
  },
  {
   "cell_type": "code",
   "execution_count": 22,
   "id": "3f4921ba",
   "metadata": {},
   "outputs": [
    {
     "data": {
      "text/plain": [
       "(3, 5)"
      ]
     },
     "execution_count": 22,
     "metadata": {},
     "output_type": "execute_result"
    }
   ],
   "source": [
    "arr1.shape"
   ]
  },
  {
   "cell_type": "raw",
   "id": "ce176426",
   "metadata": {},
   "source": [
    "shape으로 배열 정보 출력"
   ]
  },
  {
   "cell_type": "code",
   "execution_count": 20,
   "id": "45faa60b",
   "metadata": {},
   "outputs": [
    {
     "data": {
      "text/plain": [
       "dtype('int64')"
      ]
     },
     "execution_count": 20,
     "metadata": {},
     "output_type": "execute_result"
    }
   ],
   "source": [
    "arr1.dtype"
   ]
  },
  {
   "cell_type": "raw",
   "id": "84c0106c",
   "metadata": {},
   "source": [
    "dtype : 배열의 데이터 타입 확인"
   ]
  },
  {
   "cell_type": "code",
   "execution_count": 21,
   "id": "a3406133",
   "metadata": {},
   "outputs": [
    {
     "data": {
      "text/plain": [
       "array([[0., 0., 0., 0., 0.],\n",
       "       [0., 0., 0., 0., 0.],\n",
       "       [0., 0., 0., 0., 0.]])"
      ]
     },
     "execution_count": 21,
     "metadata": {},
     "output_type": "execute_result"
    }
   ],
   "source": [
    "arr2=np.zeros((3,5))\n",
    "arr2"
   ]
  },
  {
   "cell_type": "raw",
   "id": "6301994a",
   "metadata": {},
   "source": [
    "zeros : 0으로 채워진 넘파이 배열을 생성하는 함수\n",
    "- np.zerops((,)) : 배열 초기화"
   ]
  },
  {
   "cell_type": "code",
   "execution_count": 23,
   "id": "79661783",
   "metadata": {},
   "outputs": [
    {
     "data": {
      "text/plain": [
       "array([[1, 2, 3],\n",
       "       [4, 5, 6]])"
      ]
     },
     "execution_count": 23,
     "metadata": {},
     "output_type": "execute_result"
    }
   ],
   "source": [
    "arr3=np.array(([1,2,3],[4,5,6]), dtype=np.int64)\n",
    "arr3"
   ]
  },
  {
   "cell_type": "raw",
   "id": "467d4151",
   "metadata": {},
   "source": [
    "arr3의 배열값을 써주고 데이터타입을 int로 설정"
   ]
  },
  {
   "cell_type": "code",
   "execution_count": 24,
   "id": "3869ff56",
   "metadata": {},
   "outputs": [
    {
     "name": "stdout",
     "output_type": "stream",
     "text": [
      "arr3-arr4= \n",
      "[[-6 -6 -6]\n",
      " [-6 -6 -6]] \n",
      "\n"
     ]
    }
   ],
   "source": [
    "arr4=np.array(([7,8,9],[10,11,12]),dtype=np.int64)\n",
    "print(\"arr3-arr4= \")\n",
    "print(arr3-arr4,\"\\n\")"
   ]
  },
  {
   "cell_type": "raw",
   "id": "73691900",
   "metadata": {},
   "source": [
    "배열의 사칙연산으로 arr4의 배열값 쓴 후 데이터타입을 int로 설정\n",
    "arr3-arr4의 사칙연산으로 출력함\n",
    "결과값을 출력함\n",
    "전체 배열의 크기만 맞으면 각 구역에 맞게 짝지어 사칙연산 가능함"
   ]
  },
  {
   "cell_type": "code",
   "execution_count": 26,
   "id": "01b4d395",
   "metadata": {},
   "outputs": [
    {
     "data": {
      "image/png": "[encoded data removed]",
      "text/plain": [
       "<Figure size 432x288 with 1 Axes>"
      ]
     },
     "metadata": {
      "needs_background": "light"
     },
     "output_type": "display_data"
    }
   ],
   "source": [
    "x=df['names']\n",
    "y=df['births']\n",
    "\n",
    "plt.bar(x,y)\n",
    "plt.xlabel('names')\n",
    "plt.ylabel('births')\n",
    "plt.title('Bar plot')\n",
    "plt.show()"
   ]
  },
  {
   "cell_type": "raw",
   "id": "40e2ce71",
   "metadata": {},
   "source": [
    "x축엔 names를 지정함\n",
    "y축엔 births를 지정함\n",
    "plt.bar(x,y) : 로 막대 그래프 객체 생성\n",
    "xlabel(),ylabel() : x,y축 제목 변경\n",
    "title() : 타이틀 설정\n",
    "show() : 그래프 출력"
   ]
  },
  {
   "cell_type": "code",
   "execution_count": 27,
   "id": "a35a5ce7",
   "metadata": {
    "scrolled": true
   },
   "outputs": [
    {
     "data": {
      "image/png": "[encoded data removed]",
      "text/plain": [
       "<Figure size 432x288 with 1 Axes>"
      ]
     },
     "metadata": {
      "needs_background": "light"
     },
     "output_type": "display_data"
    },
    {
     "name": "stdout",
     "output_type": "stream",
     "text": [
      "[0.61185289 0.13949386 0.29214465 0.36636184 0.45606998 0.78517596\n",
      " 0.19967378 0.51423444 0.59241457 0.04645041 0.60754485 0.17052412\n",
      " 0.06505159 0.94888554 0.96563203 0.80839735 0.30461377 0.09767211\n",
      " 0.68423303 0.44015249]\n"
     ]
    }
   ],
   "source": [
    "np.random.seed(42) #이 주석을 없애면 분포도 점들이 랜덤으로 바뀜\n",
    "x=np.arange(0.0,100.0,5.0)\n",
    "y=(x*1.5)+np.random.rand(20)*50 #여기까지 array의 x값과 y값을 설정해준 것 <20개의 난수생성 +50>\n",
    "plt.scatter(x,y,c='b',alpha=0.5, label='scatter point')\n",
    "plt.xlabel('X')\n",
    "plt.ylabel('Y')\n",
    "plt.legend(loc='upper right') \n",
    "plt.title(\"Scatter plot\")\n",
    "plt.show()\n",
    "print(np.random.rand(20))"
   ]
  },
  {
   "cell_type": "raw",
   "id": "4ab96539",
   "metadata": {},
   "source": [
    "np.random.seed()로 랜덤 추출 시드를 고정시킴\n",
    "x=np.arange(0.0,100.0,5.0) : 5의 간격으로 0~100까지 숫자 생성\n",
    "np.random.rand() : 넘파이 배열 타입의 난수를 생성함\n",
    "scatter() :산점도의 그래프 객체를 생성함\n",
    "alpha로 투명도 설정\n",
    "legend() : 그래프를 꾸미기 위한 피라미터\n",
    "plt.xlabel('X')\n",
    "plt.ylabel('Y') : x,y축의 이름 지정\n",
    "show통해서 보여줌"
   ]
  },
  {
   "cell_type": "code",
   "execution_count": 28,
   "id": "a8b2aab1",
   "metadata": {},
   "outputs": [
    {
     "name": "stdout",
     "output_type": "stream",
     "text": [
      "(4622, 5)\n"
     ]
    }
   ],
   "source": [
    "print(chipo.shape)"
   ]
  },
  {
   "cell_type": "raw",
   "id": "ce86fd0b",
   "metadata": {},
   "source": [
    "shape속성으로 데이터프레임의 행,열,크기 보여줌"
   ]
  },
  {
   "cell_type": "code",
   "execution_count": 29,
   "id": "80affb36",
   "metadata": {},
   "outputs": [
    {
     "name": "stdout",
     "output_type": "stream",
     "text": [
      "<class 'pandas.core.frame.DataFrame'>\n",
      "RangeIndex: 4622 entries, 0 to 4621\n",
      "Data columns (total 5 columns):\n",
      " #   Column              Non-Null Count  Dtype \n",
      "---  ------              --------------  ----- \n",
      " 0   order_id            4622 non-null   int64 \n",
      " 1   quantity            4622 non-null   int64 \n",
      " 2   item_name           4622 non-null   object\n",
      " 3   choice_description  3376 non-null   object\n",
      " 4   item_price          4622 non-null   object\n",
      "dtypes: int64(2), object(3)\n",
      "memory usage: 180.7+ KB\n",
      "None\n"
     ]
    }
   ],
   "source": [
    "print(chipo.info())"
   ]
  },
  {
   "cell_type": "raw",
   "id": "95ef633f",
   "metadata": {},
   "source": [
    "info()함수로 데이터프레임의 행,열,구성정보 제공 "
   ]
  },
  {
   "cell_type": "code",
   "execution_count": 30,
   "id": "892f4405",
   "metadata": {},
   "outputs": [
    {
     "name": "stdout",
     "output_type": "stream",
     "text": [
      "Index(['order_id', 'quantity', 'item_name', 'choice_description',\n",
      "       'item_price'],\n",
      "      dtype='object')\n",
      "---------------\n",
      "RangeIndex(start=0, stop=4622, step=1)\n"
     ]
    }
   ],
   "source": [
    "print(chipo.columns)\n",
    "print(\"---------------\")\n",
    "print(chipo.index)"
   ]
  },
  {
   "cell_type": "raw",
   "id": "33ad31b0",
   "metadata": {},
   "source": [
    "columns : 열 노출\n",
    "index : 타입 노출 시킴"
   ]
  },
  {
   "cell_type": "code",
   "execution_count": 31,
   "id": "ad24976b",
   "metadata": {},
   "outputs": [
    {
     "data": {
      "text/html": [
       "<div>\n",
       "<style scoped>\n",
       "    .dataframe tbody tr th:only-of-type {\n",
       "        vertical-align: middle;\n",
       "    }\n",
       "\n",
       "    .dataframe tbody tr th {\n",
       "        vertical-align: top;\n",
       "    }\n",
       "\n",
       "    .dataframe thead th {\n",
       "        text-align: right;\n",
       "    }\n",
       "</style>\n",
       "<table border=\"1\" class=\"dataframe\">\n",
       "  <thead>\n",
       "    <tr style=\"text-align: right;\">\n",
       "      <th></th>\n",
       "      <th>order_id</th>\n",
       "      <th>quantity</th>\n",
       "      <th>item_name</th>\n",
       "      <th>choice_description</th>\n",
       "      <th>item_price</th>\n",
       "    </tr>\n",
       "  </thead>\n",
       "  <tbody>\n",
       "    <tr>\n",
       "      <th>0</th>\n",
       "      <td>1</td>\n",
       "      <td>1</td>\n",
       "      <td>Chips and Fresh Tomato Salsa</td>\n",
       "      <td>NaN</td>\n",
       "      <td>$2.39</td>\n",
       "    </tr>\n",
       "    <tr>\n",
       "      <th>1</th>\n",
       "      <td>1</td>\n",
       "      <td>1</td>\n",
       "      <td>Izze</td>\n",
       "      <td>[Clementine]</td>\n",
       "      <td>$3.39</td>\n",
       "    </tr>\n",
       "    <tr>\n",
       "      <th>2</th>\n",
       "      <td>1</td>\n",
       "      <td>1</td>\n",
       "      <td>Nantucket Nectar</td>\n",
       "      <td>[Apple]</td>\n",
       "      <td>$3.39</td>\n",
       "    </tr>\n",
       "    <tr>\n",
       "      <th>3</th>\n",
       "      <td>1</td>\n",
       "      <td>1</td>\n",
       "      <td>Chips and Tomatillo-Green Chili Salsa</td>\n",
       "      <td>NaN</td>\n",
       "      <td>$2.39</td>\n",
       "    </tr>\n",
       "    <tr>\n",
       "      <th>4</th>\n",
       "      <td>2</td>\n",
       "      <td>2</td>\n",
       "      <td>Chicken Bowl</td>\n",
       "      <td>[Tomatillo-Red Chili Salsa (Hot), [Black Beans...</td>\n",
       "      <td>$16.98</td>\n",
       "    </tr>\n",
       "    <tr>\n",
       "      <th>5</th>\n",
       "      <td>3</td>\n",
       "      <td>1</td>\n",
       "      <td>Chicken Bowl</td>\n",
       "      <td>[Fresh Tomato Salsa (Mild), [Rice, Cheese, Sou...</td>\n",
       "      <td>$10.98</td>\n",
       "    </tr>\n",
       "    <tr>\n",
       "      <th>6</th>\n",
       "      <td>3</td>\n",
       "      <td>1</td>\n",
       "      <td>Side of Chips</td>\n",
       "      <td>NaN</td>\n",
       "      <td>$1.69</td>\n",
       "    </tr>\n",
       "    <tr>\n",
       "      <th>7</th>\n",
       "      <td>4</td>\n",
       "      <td>1</td>\n",
       "      <td>Steak Burrito</td>\n",
       "      <td>[Tomatillo Red Chili Salsa, [Fajita Vegetables...</td>\n",
       "      <td>$11.75</td>\n",
       "    </tr>\n",
       "    <tr>\n",
       "      <th>8</th>\n",
       "      <td>4</td>\n",
       "      <td>1</td>\n",
       "      <td>Steak Soft Tacos</td>\n",
       "      <td>[Tomatillo Green Chili Salsa, [Pinto Beans, Ch...</td>\n",
       "      <td>$9.25</td>\n",
       "    </tr>\n",
       "    <tr>\n",
       "      <th>9</th>\n",
       "      <td>5</td>\n",
       "      <td>1</td>\n",
       "      <td>Steak Burrito</td>\n",
       "      <td>[Fresh Tomato Salsa, [Rice, Black Beans, Pinto...</td>\n",
       "      <td>$9.25</td>\n",
       "    </tr>\n",
       "  </tbody>\n",
       "</table>\n",
       "</div>"
      ],
      "text/plain": [
       "   order_id  quantity                              item_name  \\\n",
       "0         1         1           Chips and Fresh Tomato Salsa   \n",
       "1         1         1                                   Izze   \n",
       "2         1         1                       Nantucket Nectar   \n",
       "3         1         1  Chips and Tomatillo-Green Chili Salsa   \n",
       "4         2         2                           Chicken Bowl   \n",
       "5         3         1                           Chicken Bowl   \n",
       "6         3         1                          Side of Chips   \n",
       "7         4         1                          Steak Burrito   \n",
       "8         4         1                       Steak Soft Tacos   \n",
       "9         5         1                          Steak Burrito   \n",
       "\n",
       "                                  choice_description item_price  \n",
       "0                                                NaN     $2.39   \n",
       "1                                       [Clementine]     $3.39   \n",
       "2                                            [Apple]     $3.39   \n",
       "3                                                NaN     $2.39   \n",
       "4  [Tomatillo-Red Chili Salsa (Hot), [Black Beans...    $16.98   \n",
       "5  [Fresh Tomato Salsa (Mild), [Rice, Cheese, Sou...    $10.98   \n",
       "6                                                NaN     $1.69   \n",
       "7  [Tomatillo Red Chili Salsa, [Fajita Vegetables...    $11.75   \n",
       "8  [Tomatillo Green Chili Salsa, [Pinto Beans, Ch...     $9.25   \n",
       "9  [Fresh Tomato Salsa, [Rice, Black Beans, Pinto...     $9.25   "
      ]
     },
     "execution_count": 31,
     "metadata": {},
     "output_type": "execute_result"
    }
   ],
   "source": [
    "chipo.head(10)"
   ]
  },
  {
   "cell_type": "raw",
   "id": "a533ad09",
   "metadata": {},
   "source": [
    "head() : 순차적으로 인덱스 기준 정렬 후 상위 () 인자만큼 출력함"
   ]
  },
  {
   "cell_type": "code",
   "execution_count": 32,
   "id": "380cc8dd",
   "metadata": {},
   "outputs": [
    {
     "name": "stdout",
     "output_type": "stream",
     "text": [
      "          quantity\n",
      "count  4622.000000\n",
      "mean      1.075725\n",
      "std       0.410186\n",
      "min       1.000000\n",
      "25%       1.000000\n",
      "50%       1.000000\n",
      "75%       1.000000\n",
      "max      15.000000\n"
     ]
    }
   ],
   "source": [
    "chipo['order_id'] = chipo['order_id'].astype(str)\n",
    "print(chipo.describe())"
   ]
  },
  {
   "cell_type": "raw",
   "id": "808e1cb3",
   "metadata": {},
   "source": [
    "order_id를 astype(str)를 사용해 문자형으로 전환시킴\n",
    "desscribe() : 수치형 피처들의 기초 통계량을 출력함"
   ]
  },
  {
   "cell_type": "code",
   "execution_count": 33,
   "id": "84a0a889",
   "metadata": {},
   "outputs": [
    {
     "name": "stdout",
     "output_type": "stream",
     "text": [
      "50\n"
     ]
    }
   ],
   "source": [
    "print(len(chipo['item_name'].unique()))"
   ]
  },
  {
   "cell_type": "raw",
   "id": "16911573",
   "metadata": {},
   "source": [
    "len() 으로 갯수를 반환하는 함수\n",
    "unique() : 동일한 값은 삭제 / 범주형 데이터는 거의 사용함"
   ]
  },
  {
   "cell_type": "code",
   "execution_count": 34,
   "id": "d224d107",
   "metadata": {},
   "outputs": [
    {
     "name": "stdout",
     "output_type": "stream",
     "text": [
      "Chicken Bowl                    726\n",
      "Chicken Burrito                 553\n",
      "Chips and Guacamole             479\n",
      "Steak Burrito                   368\n",
      "Canned Soft Drink               301\n",
      "Steak Bowl                      211\n",
      "Chips                           211\n",
      "Bottled Water                   162\n",
      "Chicken Soft Tacos              115\n",
      "Chips and Fresh Tomato Salsa    110\n",
      "Chicken Salad Bowl              110\n",
      "Canned Soda                     104\n",
      "Side of Chips                   101\n",
      "Veggie Burrito                   95\n",
      "Barbacoa Burrito                 91\n",
      "Veggie Bowl                      85\n",
      "Carnitas Bowl                    68\n",
      "Barbacoa Bowl                    66\n",
      "Carnitas Burrito                 59\n",
      "Steak Soft Tacos                 55\n",
      "Name: item_name, dtype: int64\n"
     ]
    }
   ],
   "source": [
    "item_count=chipo['item_name'].value_counts(sort = True,ascending = False)[:20]\n",
    "print(item_count)"
   ]
  },
  {
   "cell_type": "raw",
   "id": "acc21737",
   "metadata": {},
   "source": [
    "item_count=chipo['item_name'].value_counts()[:10] :값의 갯수 구한 후 많은 것 순으로 정렬하기 [ ]안 인자갯수만큼만\n",
    "vaule_counts() : 데이터를 정렬해서 반환해줌\n",
    "sort 쓰게되면 정렬여부 \n",
    "ascending : 순차 또는 역순 정렬"
   ]
  },
  {
   "cell_type": "code",
   "execution_count": 35,
   "id": "51bafd01",
   "metadata": {},
   "outputs": [
    {
     "name": "stdout",
     "output_type": "stream",
     "text": [
      "Top (1, ('Chicken Bowl', 726)) :\n",
      "Top (2, ('Chicken Burrito', 553)) :\n",
      "Top (3, ('Chips and Guacamole', 479)) :\n",
      "Top (4, ('Steak Burrito', 368)) :\n",
      "Top (5, ('Canned Soft Drink', 301)) :\n",
      "Top (6, ('Steak Bowl', 211)) :\n",
      "Top (7, ('Chips', 211)) :\n",
      "Top (8, ('Bottled Water', 162)) :\n",
      "Top (9, ('Chicken Soft Tacos', 115)) :\n",
      "Top (10, ('Chips and Fresh Tomato Salsa', 110)) :\n",
      "Top (11, ('Chicken Salad Bowl', 110)) :\n",
      "Top (12, ('Canned Soda', 104)) :\n",
      "Top (13, ('Side of Chips', 101)) :\n",
      "Top (14, ('Veggie Burrito', 95)) :\n",
      "Top (15, ('Barbacoa Burrito', 91)) :\n",
      "Top (16, ('Veggie Bowl', 85)) :\n",
      "Top (17, ('Carnitas Bowl', 68)) :\n",
      "Top (18, ('Barbacoa Bowl', 66)) :\n",
      "Top (19, ('Carnitas Burrito', 59)) :\n",
      "Top (20, ('Steak Soft Tacos', 55)) :\n"
     ]
    }
   ],
   "source": [
    "for idx in enumerate(item_count.iteritems(),1):\n",
    "  print(\"Top\",idx,\":\")"
   ]
  },
  {
   "cell_type": "raw",
   "id": "9870cf8a",
   "metadata": {},
   "source": [
    "for 문법 : for 변수 in 리스트\n",
    "enumerate(item_count.iteritems(),1): 데이터셋에 인덱스 추가하는 함수로 한개씩 불러온 후 뒤의 1을 붙여 이것을 기준으로 순위가 커지게됨\n",
    "idx는 현재 전체값을 받고있음\n",
    "iteritems() : 데이터프레임 ,시리즈를 반복 가능한 iterable 객체로 변환함"
   ]
  },
  {
   "cell_type": "code",
   "execution_count": 36,
   "id": "2e0a7f44",
   "metadata": {},
   "outputs": [
    {
     "data": {
      "text/plain": [
       "item_name\n",
       "Chicken Bowl           726\n",
       "Chicken Burrito        553\n",
       "Chips and Guacamole    479\n",
       "Steak Burrito          368\n",
       "Canned Soft Drink      301\n",
       "Steak Bowl             211\n",
       "Chips                  211\n",
       "Bottled Water          162\n",
       "Chicken Soft Tacos     115\n",
       "Chicken Salad Bowl     110\n",
       "Name: order_id, dtype: int64"
      ]
     },
     "execution_count": 36,
     "metadata": {},
     "output_type": "execute_result"
    }
   ],
   "source": [
    "order_count = chipo.groupby('item_name')['order_id'].count()\n",
    "order_count.sort_values(ascending=False)[:10]"
   ]
  },
  {
   "cell_type": "raw",
   "id": "e59a99e3",
   "metadata": {},
   "source": [
    "groupby() : 아이템별로 그룹핑 해주는 함수\n",
    "count() : 갯수를 세주는 함수\n",
    "sort_values() : 시리즈 ,데이터 프레임을 정렬해줌\n",
    "item_name으로 메뉴이름 정렬 후, order_id로 정렬 그룹으로 묶은 후 상위 10개를 보여줌"
   ]
  },
  {
   "cell_type": "code",
   "execution_count": 38,
   "id": "7fc72fc3",
   "metadata": {},
   "outputs": [
    {
     "data": {
      "image/png": "[encoded data removed]",
      "text/plain": [
       "<Figure size 432x288 with 1 Axes>"
      ]
     },
     "metadata": {
      "needs_background": "light"
     },
     "output_type": "display_data"
    }
   ],
   "source": [
    "item_name_list=item_quantity.index.tolist()\n",
    "x_pos=np.arange(len(item_name_list))\n",
    "order_cnt=item_quantity.values.tolist()\n",
    "\n",
    "plt.bar(x_pos,order_cnt,align='center')\n",
    "\n",
    "plt.show()"
   ]
  },
  {
   "cell_type": "raw",
   "id": "ebff5ce1",
   "metadata": {},
   "source": [
    "tolist() : 넘파이의 배열 형식으로 변환하는 함수\n",
    "arange() : 넘파이의 배열을 만드는 함수 \n",
    "x_pos=np.arange(len(item_name_list)) : x축 data\n",
    "plt.bar(x_pos,order_cnt,align='center') : 막대그래프\n",
    "plt.show()로 그래프 보여줌 "
   ]
  },
  {
   "cell_type": "code",
   "execution_count": 39,
   "id": "a8a423da",
   "metadata": {},
   "outputs": [
    {
     "data": {
      "text/html": [
       "<div>\n",
       "<style scoped>\n",
       "    .dataframe tbody tr th:only-of-type {\n",
       "        vertical-align: middle;\n",
       "    }\n",
       "\n",
       "    .dataframe tbody tr th {\n",
       "        vertical-align: top;\n",
       "    }\n",
       "\n",
       "    .dataframe thead th {\n",
       "        text-align: right;\n",
       "    }\n",
       "</style>\n",
       "<table border=\"1\" class=\"dataframe\">\n",
       "  <thead>\n",
       "    <tr style=\"text-align: right;\">\n",
       "      <th></th>\n",
       "      <th>quantity</th>\n",
       "      <th>item_price</th>\n",
       "    </tr>\n",
       "  </thead>\n",
       "  <tbody>\n",
       "    <tr>\n",
       "      <th>count</th>\n",
       "      <td>4622.000000</td>\n",
       "      <td>4622.000000</td>\n",
       "    </tr>\n",
       "    <tr>\n",
       "      <th>mean</th>\n",
       "      <td>1.075725</td>\n",
       "      <td>7.464336</td>\n",
       "    </tr>\n",
       "    <tr>\n",
       "      <th>std</th>\n",
       "      <td>0.410186</td>\n",
       "      <td>4.245557</td>\n",
       "    </tr>\n",
       "    <tr>\n",
       "      <th>min</th>\n",
       "      <td>1.000000</td>\n",
       "      <td>1.090000</td>\n",
       "    </tr>\n",
       "    <tr>\n",
       "      <th>25%</th>\n",
       "      <td>1.000000</td>\n",
       "      <td>3.390000</td>\n",
       "    </tr>\n",
       "    <tr>\n",
       "      <th>50%</th>\n",
       "      <td>1.000000</td>\n",
       "      <td>8.750000</td>\n",
       "    </tr>\n",
       "    <tr>\n",
       "      <th>75%</th>\n",
       "      <td>1.000000</td>\n",
       "      <td>9.250000</td>\n",
       "    </tr>\n",
       "    <tr>\n",
       "      <th>max</th>\n",
       "      <td>15.000000</td>\n",
       "      <td>44.250000</td>\n",
       "    </tr>\n",
       "  </tbody>\n",
       "</table>\n",
       "</div>"
      ],
      "text/plain": [
       "          quantity   item_price\n",
       "count  4622.000000  4622.000000\n",
       "mean      1.075725     7.464336\n",
       "std       0.410186     4.245557\n",
       "min       1.000000     1.090000\n",
       "25%       1.000000     3.390000\n",
       "50%       1.000000     8.750000\n",
       "75%       1.000000     9.250000\n",
       "max      15.000000    44.250000"
      ]
     },
     "execution_count": 39,
     "metadata": {},
     "output_type": "execute_result"
    }
   ],
   "source": [
    "chipo['item_price']=chipo['item_price'].apply(lambda x:float(x[1:]))\n",
    "chipo.describe()"
   ]
  },
  {
   "cell_type": "raw",
   "id": "da504533",
   "metadata": {},
   "source": [
    "문자값을 숫자로 변경하려함 \n",
    "apply : 행,열 또는 전체의 셀에 원하는 연산 적용하는 함수\n",
    "lambda : 함수를 한줄로 만들어 주는 형식으로 lambda 매개변수로 표현함\n",
    "float(x[1:])로 x값의 1번째 인덱스부터 값 추출해 플롯형으로 변환\n",
    "describe()로 통계량 출력"
   ]
  },
  {
   "cell_type": "code",
   "execution_count": 40,
   "id": "3e49a425",
   "metadata": {},
   "outputs": [
    {
     "name": "stdout",
     "output_type": "stream",
     "text": [
      "          quantity  item_price\n",
      "order_id                      \n",
      "1                4       11.56\n",
      "10               2       13.20\n",
      "100              2       10.08\n",
      "1000             2       20.50\n",
      "1001             2       10.08\n",
      "1002             2       10.68\n",
      "1003             2       13.00\n",
      "1004             2       21.96\n",
      "1005             3       12.15\n",
      "1006             8       71.40\n",
      "['1' '10' '100' ... '997' '998' '999']\n"
     ]
    }
   ],
   "source": [
    "chipo_orderid_group=chipo.groupby('order_id').sum()\n",
    "results=chipo_orderid_group[chipo_orderid_group.item_price>=10]\n",
    "\n",
    "print(results[:10])\n",
    "print(results.index.values)"
   ]
  },
  {
   "cell_type": "raw",
   "id": "19bd05bf",
   "metadata": {},
   "source": [
    "10달러 이상의 메뉴만 찾기 위해서 order_id로 한 그룹의 메뉴의 총 합을 그룹핑함\n",
    "결과로  아이템 가격이 10보다 큰경우를 반환함 \n",
    "results[:10]으로 결과 처음부터 9까지의 인덱스를 출력함\n",
    "vaules의 값들을 출력\n",
    "\n",
    "특정 가격 이상의 메뉴를 찾고, 이 메뉴의 분포도를 보려고 함\n",
    "\n",
    "chipo의 데이터 프레임의 item들을 테이블마다 가격을 합산해서 그룹화 해줌"
   ]
  },
  {
   "cell_type": "code",
   "execution_count": 41,
   "id": "69bfe0fe",
   "metadata": {},
   "outputs": [
    {
     "data": {
      "text/html": [
       "<div>\n",
       "<style scoped>\n",
       "    .dataframe tbody tr th:only-of-type {\n",
       "        vertical-align: middle;\n",
       "    }\n",
       "\n",
       "    .dataframe tbody tr th {\n",
       "        vertical-align: top;\n",
       "    }\n",
       "\n",
       "    .dataframe thead th {\n",
       "        text-align: right;\n",
       "    }\n",
       "</style>\n",
       "<table border=\"1\" class=\"dataframe\">\n",
       "  <thead>\n",
       "    <tr style=\"text-align: right;\">\n",
       "      <th></th>\n",
       "      <th>order_id</th>\n",
       "      <th>quantity</th>\n",
       "      <th>choice_description</th>\n",
       "      <th>item_price</th>\n",
       "    </tr>\n",
       "    <tr>\n",
       "      <th>item_name</th>\n",
       "      <th></th>\n",
       "      <th></th>\n",
       "      <th></th>\n",
       "      <th></th>\n",
       "    </tr>\n",
       "  </thead>\n",
       "  <tbody>\n",
       "    <tr>\n",
       "      <th>Steak Salad Bowl</th>\n",
       "      <td>1032</td>\n",
       "      <td>1</td>\n",
       "      <td>[Fresh Tomato Salsa, Lettuce]</td>\n",
       "      <td>9.39</td>\n",
       "    </tr>\n",
       "    <tr>\n",
       "      <th>Barbacoa Salad Bowl</th>\n",
       "      <td>1283</td>\n",
       "      <td>1</td>\n",
       "      <td>[Fresh Tomato Salsa, Guacamole]</td>\n",
       "      <td>9.39</td>\n",
       "    </tr>\n",
       "    <tr>\n",
       "      <th>Carnitas Salad Bowl</th>\n",
       "      <td>1035</td>\n",
       "      <td>1</td>\n",
       "      <td>[Fresh Tomato Salsa, [Rice, Black Beans, Chees...</td>\n",
       "      <td>9.39</td>\n",
       "    </tr>\n",
       "    <tr>\n",
       "      <th>Carnitas Soft Tacos</th>\n",
       "      <td>1011</td>\n",
       "      <td>1</td>\n",
       "      <td>[Fresh Tomato Salsa (Mild), [Black Beans, Rice...</td>\n",
       "      <td>8.99</td>\n",
       "    </tr>\n",
       "    <tr>\n",
       "      <th>Carnitas Crispy Tacos</th>\n",
       "      <td>1774</td>\n",
       "      <td>1</td>\n",
       "      <td>[Fresh Tomato Salsa, [Fajita Vegetables, Rice,...</td>\n",
       "      <td>8.99</td>\n",
       "    </tr>\n",
       "    <tr>\n",
       "      <th>Steak Soft Tacos</th>\n",
       "      <td>1054</td>\n",
       "      <td>1</td>\n",
       "      <td>[Fresh Tomato Salsa (Mild), [Cheese, Sour Cream]]</td>\n",
       "      <td>8.99</td>\n",
       "    </tr>\n",
       "    <tr>\n",
       "      <th>Carnitas Salad</th>\n",
       "      <td>1500</td>\n",
       "      <td>1</td>\n",
       "      <td>[[Fresh Tomato Salsa (Mild), Roasted Chili Cor...</td>\n",
       "      <td>8.99</td>\n",
       "    </tr>\n",
       "    <tr>\n",
       "      <th>Carnitas Bowl</th>\n",
       "      <td>1007</td>\n",
       "      <td>1</td>\n",
       "      <td>[Fresh Tomato (Mild), [Guacamole, Lettuce, Ric...</td>\n",
       "      <td>8.99</td>\n",
       "    </tr>\n",
       "    <tr>\n",
       "      <th>Barbacoa Soft Tacos</th>\n",
       "      <td>1103</td>\n",
       "      <td>1</td>\n",
       "      <td>[Fresh Tomato Salsa, [Black Beans, Cheese, Let...</td>\n",
       "      <td>8.99</td>\n",
       "    </tr>\n",
       "    <tr>\n",
       "      <th>Barbacoa Crispy Tacos</th>\n",
       "      <td>110</td>\n",
       "      <td>1</td>\n",
       "      <td>[Fresh Tomato Salsa, Guacamole]</td>\n",
       "      <td>8.99</td>\n",
       "    </tr>\n",
       "    <tr>\n",
       "      <th>Veggie Salad Bowl</th>\n",
       "      <td>1066</td>\n",
       "      <td>1</td>\n",
       "      <td>[Fresh Tomato Salsa, [Fajita Vegetables, Black...</td>\n",
       "      <td>8.75</td>\n",
       "    </tr>\n",
       "    <tr>\n",
       "      <th>Chicken Salad Bowl</th>\n",
       "      <td>1015</td>\n",
       "      <td>1</td>\n",
       "      <td>[Fresh Tomato Salsa, Fajita Vegetables]</td>\n",
       "      <td>8.75</td>\n",
       "    </tr>\n",
       "    <tr>\n",
       "      <th>Steak Burrito</th>\n",
       "      <td>100</td>\n",
       "      <td>1</td>\n",
       "      <td>[Brown Rice]</td>\n",
       "      <td>8.69</td>\n",
       "    </tr>\n",
       "    <tr>\n",
       "      <th>Steak Crispy Tacos</th>\n",
       "      <td>1044</td>\n",
       "      <td>1</td>\n",
       "      <td>[Fresh Tomato (Mild), [Lettuce, Cheese]]</td>\n",
       "      <td>8.69</td>\n",
       "    </tr>\n",
       "    <tr>\n",
       "      <th>Steak Salad</th>\n",
       "      <td>1406</td>\n",
       "      <td>1</td>\n",
       "      <td>[Fresh Tomato Salsa (Mild), [Rice, Cheese, Sou...</td>\n",
       "      <td>8.69</td>\n",
       "    </tr>\n",
       "    <tr>\n",
       "      <th>Carnitas Burrito</th>\n",
       "      <td>1003</td>\n",
       "      <td>1</td>\n",
       "      <td>[Fresh Tomato (Mild), [Lettuce, Black Beans, G...</td>\n",
       "      <td>8.69</td>\n",
       "    </tr>\n",
       "    <tr>\n",
       "      <th>Steak Bowl</th>\n",
       "      <td>1006</td>\n",
       "      <td>1</td>\n",
       "      <td>[Fresh Tomato (Mild), [Guacamole, Lettuce, Pin...</td>\n",
       "      <td>8.69</td>\n",
       "    </tr>\n",
       "    <tr>\n",
       "      <th>Barbacoa Burrito</th>\n",
       "      <td>1002</td>\n",
       "      <td>1</td>\n",
       "      <td>[Fresh Tomato (Mild), [Black Beans, Rice, Sour...</td>\n",
       "      <td>8.69</td>\n",
       "    </tr>\n",
       "    <tr>\n",
       "      <th>Barbacoa Bowl</th>\n",
       "      <td>1000</td>\n",
       "      <td>1</td>\n",
       "      <td>[Fresh Tomato (Mild), [Lettuce, Black Beans, R...</td>\n",
       "      <td>8.69</td>\n",
       "    </tr>\n",
       "    <tr>\n",
       "      <th>Chicken Soft Tacos</th>\n",
       "      <td>1006</td>\n",
       "      <td>1</td>\n",
       "      <td>[Fresh Tomato Salsa (Mild), [Black Beans, Rice...</td>\n",
       "      <td>8.49</td>\n",
       "    </tr>\n",
       "    <tr>\n",
       "      <th>Veggie Bowl</th>\n",
       "      <td>1006</td>\n",
       "      <td>1</td>\n",
       "      <td>[Fresh Tomato Salsa (Mild), [Pinto Beans, Blac...</td>\n",
       "      <td>8.49</td>\n",
       "    </tr>\n",
       "    <tr>\n",
       "      <th>Veggie Burrito</th>\n",
       "      <td>1033</td>\n",
       "      <td>1</td>\n",
       "      <td>[Fresh Tomato Salsa (Mild), [Black Beans, Faji...</td>\n",
       "      <td>8.49</td>\n",
       "    </tr>\n",
       "    <tr>\n",
       "      <th>Veggie Soft Tacos</th>\n",
       "      <td>1132</td>\n",
       "      <td>1</td>\n",
       "      <td>[Fresh Tomato Salsa (Mild), [Pinto Beans, Rice...</td>\n",
       "      <td>8.49</td>\n",
       "    </tr>\n",
       "    <tr>\n",
       "      <th>Chicken Crispy Tacos</th>\n",
       "      <td>1010</td>\n",
       "      <td>1</td>\n",
       "      <td>[Fresh Tomato Salsa (Mild), Fajita Veggies]</td>\n",
       "      <td>8.49</td>\n",
       "    </tr>\n",
       "    <tr>\n",
       "      <th>Veggie Crispy Tacos</th>\n",
       "      <td>668</td>\n",
       "      <td>1</td>\n",
       "      <td>[Fresh Tomato Salsa (Mild), [Pinto Beans, Rice...</td>\n",
       "      <td>8.49</td>\n",
       "    </tr>\n",
       "    <tr>\n",
       "      <th>Veggie Salad</th>\n",
       "      <td>1094</td>\n",
       "      <td>1</td>\n",
       "      <td>[Roasted Chili Corn Salsa (Medium), [Black Bea...</td>\n",
       "      <td>8.49</td>\n",
       "    </tr>\n",
       "    <tr>\n",
       "      <th>Chicken Salad</th>\n",
       "      <td>109</td>\n",
       "      <td>1</td>\n",
       "      <td>[Fresh Tomato Salsa (Mild), Black Beans]</td>\n",
       "      <td>8.19</td>\n",
       "    </tr>\n",
       "    <tr>\n",
       "      <th>Chicken Burrito</th>\n",
       "      <td>1005</td>\n",
       "      <td>1</td>\n",
       "      <td>[Fresh Tomato (Mild), [Black Beans, Rice, Sour...</td>\n",
       "      <td>8.19</td>\n",
       "    </tr>\n",
       "    <tr>\n",
       "      <th>Chicken Bowl</th>\n",
       "      <td>10</td>\n",
       "      <td>1</td>\n",
       "      <td>[Fresh Tomato (Mild), [Guacamole, Rice]]</td>\n",
       "      <td>8.19</td>\n",
       "    </tr>\n",
       "    <tr>\n",
       "      <th>Crispy Tacos</th>\n",
       "      <td>217</td>\n",
       "      <td>1</td>\n",
       "      <td>[Adobo-Marinated and Grilled Chicken]</td>\n",
       "      <td>7.40</td>\n",
       "    </tr>\n",
       "    <tr>\n",
       "      <th>Burrito</th>\n",
       "      <td>214</td>\n",
       "      <td>1</td>\n",
       "      <td>[Adobo-Marinated and Grilled Chicken, Pinto Be...</td>\n",
       "      <td>7.40</td>\n",
       "    </tr>\n",
       "    <tr>\n",
       "      <th>Bowl</th>\n",
       "      <td>279</td>\n",
       "      <td>1</td>\n",
       "      <td>[Adobo-Marinated and Grilled Steak, [Sour Crea...</td>\n",
       "      <td>7.40</td>\n",
       "    </tr>\n",
       "    <tr>\n",
       "      <th>Salad</th>\n",
       "      <td>575</td>\n",
       "      <td>1</td>\n",
       "      <td>[Brown Rice, Adobo-Marinated and Grilled Chick...</td>\n",
       "      <td>7.40</td>\n",
       "    </tr>\n",
       "    <tr>\n",
       "      <th>6 Pack Soft Drink</th>\n",
       "      <td>1076</td>\n",
       "      <td>1</td>\n",
       "      <td>[Coke]</td>\n",
       "      <td>6.49</td>\n",
       "    </tr>\n",
       "    <tr>\n",
       "      <th>Chips and Guacamole</th>\n",
       "      <td>10</td>\n",
       "      <td>1</td>\n",
       "      <td>NaN</td>\n",
       "      <td>3.89</td>\n",
       "    </tr>\n",
       "    <tr>\n",
       "      <th>Izze</th>\n",
       "      <td>1</td>\n",
       "      <td>1</td>\n",
       "      <td>[Blackberry]</td>\n",
       "      <td>3.39</td>\n",
       "    </tr>\n",
       "    <tr>\n",
       "      <th>Nantucket Nectar</th>\n",
       "      <td>1</td>\n",
       "      <td>1</td>\n",
       "      <td>[Apple]</td>\n",
       "      <td>3.39</td>\n",
       "    </tr>\n",
       "    <tr>\n",
       "      <th>Chips and Mild Fresh Tomato Salsa</th>\n",
       "      <td>279</td>\n",
       "      <td>1</td>\n",
       "      <td>NaN</td>\n",
       "      <td>3.00</td>\n",
       "    </tr>\n",
       "    <tr>\n",
       "      <th>Chips and Tomatillo Red Chili Salsa</th>\n",
       "      <td>1020</td>\n",
       "      <td>1</td>\n",
       "      <td>NaN</td>\n",
       "      <td>2.95</td>\n",
       "    </tr>\n",
       "    <tr>\n",
       "      <th>Chips and Tomatillo Green Chili Salsa</th>\n",
       "      <td>102</td>\n",
       "      <td>1</td>\n",
       "      <td>NaN</td>\n",
       "      <td>2.95</td>\n",
       "    </tr>\n",
       "    <tr>\n",
       "      <th>Chips and Roasted Chili Corn Salsa</th>\n",
       "      <td>102</td>\n",
       "      <td>1</td>\n",
       "      <td>NaN</td>\n",
       "      <td>2.95</td>\n",
       "    </tr>\n",
       "    <tr>\n",
       "      <th>Chips and Tomatillo-Red Chili Salsa</th>\n",
       "      <td>1215</td>\n",
       "      <td>1</td>\n",
       "      <td>NaN</td>\n",
       "      <td>2.39</td>\n",
       "    </tr>\n",
       "    <tr>\n",
       "      <th>Chips and Tomatillo-Green Chili Salsa</th>\n",
       "      <td>1</td>\n",
       "      <td>1</td>\n",
       "      <td>NaN</td>\n",
       "      <td>2.39</td>\n",
       "    </tr>\n",
       "    <tr>\n",
       "      <th>Chips and Roasted Chili-Corn Salsa</th>\n",
       "      <td>1156</td>\n",
       "      <td>1</td>\n",
       "      <td>NaN</td>\n",
       "      <td>2.39</td>\n",
       "    </tr>\n",
       "    <tr>\n",
       "      <th>Chips and Fresh Tomato Salsa</th>\n",
       "      <td>1</td>\n",
       "      <td>1</td>\n",
       "      <td>NaN</td>\n",
       "      <td>2.29</td>\n",
       "    </tr>\n",
       "    <tr>\n",
       "      <th>Chips</th>\n",
       "      <td>1005</td>\n",
       "      <td>1</td>\n",
       "      <td>NaN</td>\n",
       "      <td>1.99</td>\n",
       "    </tr>\n",
       "    <tr>\n",
       "      <th>Side of Chips</th>\n",
       "      <td>1002</td>\n",
       "      <td>1</td>\n",
       "      <td>NaN</td>\n",
       "      <td>1.69</td>\n",
       "    </tr>\n",
       "    <tr>\n",
       "      <th>Canned Soft Drink</th>\n",
       "      <td>1003</td>\n",
       "      <td>1</td>\n",
       "      <td>[Coke]</td>\n",
       "      <td>1.25</td>\n",
       "    </tr>\n",
       "    <tr>\n",
       "      <th>Canned Soda</th>\n",
       "      <td>100</td>\n",
       "      <td>1</td>\n",
       "      <td>[Coca Cola]</td>\n",
       "      <td>1.09</td>\n",
       "    </tr>\n",
       "    <tr>\n",
       "      <th>Bottled Water</th>\n",
       "      <td>1009</td>\n",
       "      <td>1</td>\n",
       "      <td>NaN</td>\n",
       "      <td>1.09</td>\n",
       "    </tr>\n",
       "  </tbody>\n",
       "</table>\n",
       "</div>"
      ],
      "text/plain": [
       "                                      order_id  quantity  \\\n",
       "item_name                                                  \n",
       "Steak Salad Bowl                          1032         1   \n",
       "Barbacoa Salad Bowl                       1283         1   \n",
       "Carnitas Salad Bowl                       1035         1   \n",
       "Carnitas Soft Tacos                       1011         1   \n",
       "Carnitas Crispy Tacos                     1774         1   \n",
       "Steak Soft Tacos                          1054         1   \n",
       "Carnitas Salad                            1500         1   \n",
       "Carnitas Bowl                             1007         1   \n",
       "Barbacoa Soft Tacos                       1103         1   \n",
       "Barbacoa Crispy Tacos                      110         1   \n",
       "Veggie Salad Bowl                         1066         1   \n",
       "Chicken Salad Bowl                        1015         1   \n",
       "Steak Burrito                              100         1   \n",
       "Steak Crispy Tacos                        1044         1   \n",
       "Steak Salad                               1406         1   \n",
       "Carnitas Burrito                          1003         1   \n",
       "Steak Bowl                                1006         1   \n",
       "Barbacoa Burrito                          1002         1   \n",
       "Barbacoa Bowl                             1000         1   \n",
       "Chicken Soft Tacos                        1006         1   \n",
       "Veggie Bowl                               1006         1   \n",
       "Veggie Burrito                            1033         1   \n",
       "Veggie Soft Tacos                         1132         1   \n",
       "Chicken Crispy Tacos                      1010         1   \n",
       "Veggie Crispy Tacos                        668         1   \n",
       "Veggie Salad                              1094         1   \n",
       "Chicken Salad                              109         1   \n",
       "Chicken Burrito                           1005         1   \n",
       "Chicken Bowl                                10         1   \n",
       "Crispy Tacos                               217         1   \n",
       "Burrito                                    214         1   \n",
       "Bowl                                       279         1   \n",
       "Salad                                      575         1   \n",
       "6 Pack Soft Drink                         1076         1   \n",
       "Chips and Guacamole                         10         1   \n",
       "Izze                                         1         1   \n",
       "Nantucket Nectar                             1         1   \n",
       "Chips and Mild Fresh Tomato Salsa          279         1   \n",
       "Chips and Tomatillo Red Chili Salsa       1020         1   \n",
       "Chips and Tomatillo Green Chili Salsa      102         1   \n",
       "Chips and Roasted Chili Corn Salsa         102         1   \n",
       "Chips and Tomatillo-Red Chili Salsa       1215         1   \n",
       "Chips and Tomatillo-Green Chili Salsa        1         1   \n",
       "Chips and Roasted Chili-Corn Salsa        1156         1   \n",
       "Chips and Fresh Tomato Salsa                 1         1   \n",
       "Chips                                     1005         1   \n",
       "Side of Chips                             1002         1   \n",
       "Canned Soft Drink                         1003         1   \n",
       "Canned Soda                                100         1   \n",
       "Bottled Water                             1009         1   \n",
       "\n",
       "                                                                      choice_description  \\\n",
       "item_name                                                                                  \n",
       "Steak Salad Bowl                                           [Fresh Tomato Salsa, Lettuce]   \n",
       "Barbacoa Salad Bowl                                      [Fresh Tomato Salsa, Guacamole]   \n",
       "Carnitas Salad Bowl                    [Fresh Tomato Salsa, [Rice, Black Beans, Chees...   \n",
       "Carnitas Soft Tacos                    [Fresh Tomato Salsa (Mild), [Black Beans, Rice...   \n",
       "Carnitas Crispy Tacos                  [Fresh Tomato Salsa, [Fajita Vegetables, Rice,...   \n",
       "Steak Soft Tacos                       [Fresh Tomato Salsa (Mild), [Cheese, Sour Cream]]   \n",
       "Carnitas Salad                         [[Fresh Tomato Salsa (Mild), Roasted Chili Cor...   \n",
       "Carnitas Bowl                          [Fresh Tomato (Mild), [Guacamole, Lettuce, Ric...   \n",
       "Barbacoa Soft Tacos                    [Fresh Tomato Salsa, [Black Beans, Cheese, Let...   \n",
       "Barbacoa Crispy Tacos                                    [Fresh Tomato Salsa, Guacamole]   \n",
       "Veggie Salad Bowl                      [Fresh Tomato Salsa, [Fajita Vegetables, Black...   \n",
       "Chicken Salad Bowl                               [Fresh Tomato Salsa, Fajita Vegetables]   \n",
       "Steak Burrito                                                               [Brown Rice]   \n",
       "Steak Crispy Tacos                              [Fresh Tomato (Mild), [Lettuce, Cheese]]   \n",
       "Steak Salad                            [Fresh Tomato Salsa (Mild), [Rice, Cheese, Sou...   \n",
       "Carnitas Burrito                       [Fresh Tomato (Mild), [Lettuce, Black Beans, G...   \n",
       "Steak Bowl                             [Fresh Tomato (Mild), [Guacamole, Lettuce, Pin...   \n",
       "Barbacoa Burrito                       [Fresh Tomato (Mild), [Black Beans, Rice, Sour...   \n",
       "Barbacoa Bowl                          [Fresh Tomato (Mild), [Lettuce, Black Beans, R...   \n",
       "Chicken Soft Tacos                     [Fresh Tomato Salsa (Mild), [Black Beans, Rice...   \n",
       "Veggie Bowl                            [Fresh Tomato Salsa (Mild), [Pinto Beans, Blac...   \n",
       "Veggie Burrito                         [Fresh Tomato Salsa (Mild), [Black Beans, Faji...   \n",
       "Veggie Soft Tacos                      [Fresh Tomato Salsa (Mild), [Pinto Beans, Rice...   \n",
       "Chicken Crispy Tacos                         [Fresh Tomato Salsa (Mild), Fajita Veggies]   \n",
       "Veggie Crispy Tacos                    [Fresh Tomato Salsa (Mild), [Pinto Beans, Rice...   \n",
       "Veggie Salad                           [Roasted Chili Corn Salsa (Medium), [Black Bea...   \n",
       "Chicken Salad                                   [Fresh Tomato Salsa (Mild), Black Beans]   \n",
       "Chicken Burrito                        [Fresh Tomato (Mild), [Black Beans, Rice, Sour...   \n",
       "Chicken Bowl                                    [Fresh Tomato (Mild), [Guacamole, Rice]]   \n",
       "Crispy Tacos                                       [Adobo-Marinated and Grilled Chicken]   \n",
       "Burrito                                [Adobo-Marinated and Grilled Chicken, Pinto Be...   \n",
       "Bowl                                   [Adobo-Marinated and Grilled Steak, [Sour Crea...   \n",
       "Salad                                  [Brown Rice, Adobo-Marinated and Grilled Chick...   \n",
       "6 Pack Soft Drink                                                                 [Coke]   \n",
       "Chips and Guacamole                                                                  NaN   \n",
       "Izze                                                                        [Blackberry]   \n",
       "Nantucket Nectar                                                                 [Apple]   \n",
       "Chips and Mild Fresh Tomato Salsa                                                    NaN   \n",
       "Chips and Tomatillo Red Chili Salsa                                                  NaN   \n",
       "Chips and Tomatillo Green Chili Salsa                                                NaN   \n",
       "Chips and Roasted Chili Corn Salsa                                                   NaN   \n",
       "Chips and Tomatillo-Red Chili Salsa                                                  NaN   \n",
       "Chips and Tomatillo-Green Chili Salsa                                                NaN   \n",
       "Chips and Roasted Chili-Corn Salsa                                                   NaN   \n",
       "Chips and Fresh Tomato Salsa                                                         NaN   \n",
       "Chips                                                                                NaN   \n",
       "Side of Chips                                                                        NaN   \n",
       "Canned Soft Drink                                                                 [Coke]   \n",
       "Canned Soda                                                                  [Coca Cola]   \n",
       "Bottled Water                                                                        NaN   \n",
       "\n",
       "                                       item_price  \n",
       "item_name                                          \n",
       "Steak Salad Bowl                             9.39  \n",
       "Barbacoa Salad Bowl                          9.39  \n",
       "Carnitas Salad Bowl                          9.39  \n",
       "Carnitas Soft Tacos                          8.99  \n",
       "Carnitas Crispy Tacos                        8.99  \n",
       "Steak Soft Tacos                             8.99  \n",
       "Carnitas Salad                               8.99  \n",
       "Carnitas Bowl                                8.99  \n",
       "Barbacoa Soft Tacos                          8.99  \n",
       "Barbacoa Crispy Tacos                        8.99  \n",
       "Veggie Salad Bowl                            8.75  \n",
       "Chicken Salad Bowl                           8.75  \n",
       "Steak Burrito                                8.69  \n",
       "Steak Crispy Tacos                           8.69  \n",
       "Steak Salad                                  8.69  \n",
       "Carnitas Burrito                             8.69  \n",
       "Steak Bowl                                   8.69  \n",
       "Barbacoa Burrito                             8.69  \n",
       "Barbacoa Bowl                                8.69  \n",
       "Chicken Soft Tacos                           8.49  \n",
       "Veggie Bowl                                  8.49  \n",
       "Veggie Burrito                               8.49  \n",
       "Veggie Soft Tacos                            8.49  \n",
       "Chicken Crispy Tacos                         8.49  \n",
       "Veggie Crispy Tacos                          8.49  \n",
       "Veggie Salad                                 8.49  \n",
       "Chicken Salad                                8.19  \n",
       "Chicken Burrito                              8.19  \n",
       "Chicken Bowl                                 8.19  \n",
       "Crispy Tacos                                 7.40  \n",
       "Burrito                                      7.40  \n",
       "Bowl                                         7.40  \n",
       "Salad                                        7.40  \n",
       "6 Pack Soft Drink                            6.49  \n",
       "Chips and Guacamole                          3.89  \n",
       "Izze                                         3.39  \n",
       "Nantucket Nectar                             3.39  \n",
       "Chips and Mild Fresh Tomato Salsa            3.00  \n",
       "Chips and Tomatillo Red Chili Salsa          2.95  \n",
       "Chips and Tomatillo Green Chili Salsa        2.95  \n",
       "Chips and Roasted Chili Corn Salsa           2.95  \n",
       "Chips and Tomatillo-Red Chili Salsa          2.39  \n",
       "Chips and Tomatillo-Green Chili Salsa        2.39  \n",
       "Chips and Roasted Chili-Corn Salsa           2.39  \n",
       "Chips and Fresh Tomato Salsa                 2.29  \n",
       "Chips                                        1.99  \n",
       "Side of Chips                                1.69  \n",
       "Canned Soft Drink                            1.25  \n",
       "Canned Soda                                  1.09  \n",
       "Bottled Water                                1.09  "
      ]
     },
     "execution_count": 41,
     "metadata": {},
     "output_type": "execute_result"
    }
   ],
   "source": [
    "chipo_one_item=chipo[chipo.quantity==1]\n",
    "price_per_item=chipo_one_item.groupby('item_name').min()\n",
    "price_per_item.sort_values(by='item_price',ascending=False)"
   ]
  },
  {
   "cell_type": "raw",
   "id": "4923fa61",
   "metadata": {},
   "source": [
    "메뉴를 가격별로 정렬하기 위해서 quantity==1로 옵션을 뺀 메뉴를 선별한 후 \n",
    "최솟값으로 메뉴를 그룹핑해 가격으로 정렬함\n",
    "min() : 그룹별로 최솟값을 구하는 함수\n",
    "sort_values : 시리즈 또는 데이터프레임 정렬해주는 함수"
   ]
  }
 ],
 "metadata": {
  "kernelspec": {
   "display_name": "Python 3 (ipykernel)",
   "language": "python",
   "name": "python3"
  },
  "language_info": {
   "codemirror_mode": {
    "name": "ipython",
    "version": 3
   },
   "file_extension": ".py",
   "mimetype": "text/x-python",
   "name": "python",
   "nbconvert_exporter": "python",
   "pygments_lexer": "ipython3",
   "version": "3.9.12"
  }
 },
 "nbformat": 4,
 "nbformat_minor": 5
}
